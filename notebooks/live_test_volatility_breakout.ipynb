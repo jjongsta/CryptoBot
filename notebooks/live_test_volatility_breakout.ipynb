{
 "cells": [
  {
   "cell_type": "code",
   "execution_count": 7,
   "id": "1b17c518-5c48-44ed-b41a-15f0846dd9c8",
   "metadata": {},
   "outputs": [],
   "source": [
    "import cbpro\n",
    "import pandas as pd\n",
    "import numpy as np\n",
    "from datetime import datetime, timedelta\n",
    "import yaml\n",
    "import time\n",
    "\n",
    "yaml_filename = 'jay_cbpro_config.yaml'\n",
    "my_yaml_file = open(f\"../../{yaml_filename}\")\n",
    "\n",
    "yaml_dict = yaml.load(my_yaml_file, Loader=yaml.FullLoader)\n",
    "\n",
    "locals().update(yaml_dict[\"cbpro\"])\n",
    "\n",
    "auth_client = cbpro.AuthenticatedClient(API_KEY, API_SECRET, API_PASS)\n",
    "pub_client = cbpro.PublicClient()"
   ]
  },
  {
   "cell_type": "markdown",
   "id": "69284c4f-71dc-45d1-9b6d-4e3496d10c28",
   "metadata": {},
   "source": [
    "# Pseudocode for live trading bot\n",
    "\n",
    "// API call every 5 minute\n",
    "\n",
    "IF the time is 1 day candle:\n",
    "    \n",
    "    THEN clear all positions (market sell all existing orders)\n",
    "    \n",
    "ELSE:\n",
    "\n",
    "    get a list of top 4 coins sorted by USD volume\n",
    "    \n",
    "    num_orders = the number of coins with existing orders\n",
    "    \n",
    "    FOR coin IN list:\n",
    "        IF there is an existing order:\n",
    "            PASS\n",
    "        ELSE:\n",
    "            get buy signal based on k = 0.6\n",
    "            market buy with (total cash / (4 - num_orders)"
   ]
  },
  {
   "cell_type": "code",
   "execution_count": 8,
   "id": "4c9fc3b2-2e34-49ca-a801-0f1da7f777ea",
   "metadata": {},
   "outputs": [
    {
     "data": {
      "text/plain": [
       "{'id': '4cf15f9c-67cf-42c2-8fda-9190451eb472',\n",
       " 'currency': 'USD',\n",
       " 'balance': '1814.1770972183245000',\n",
       " 'hold': '0.0000000000000000',\n",
       " 'available': '1814.1770972183245',\n",
       " 'profile_id': '6cf41155-d4f1-405e-82a9-bc7a7515d039',\n",
       " 'trading_enabled': True}"
      ]
     },
     "execution_count": 8,
     "metadata": {},
     "output_type": "execute_result"
    }
   ],
   "source": [
    "# get account_info for holding coins\n",
    "acc_info = {}\n",
    "\n",
    "for data in auth_client.get_accounts():\n",
    "    currency = data['currency']\n",
    "    acc_info[currency] = data\n",
    "        \n",
    "acc_info['USD']"
   ]
  },
  {
   "cell_type": "code",
   "execution_count": 6,
   "id": "c9a7e5fa-37b1-4ed7-be1e-cfc2ce149792",
   "metadata": {
    "tags": []
   },
   "outputs": [],
   "source": [
    "for coin in acc_info.keys():\n",
    "    coin_size = float(acc_info[coin]['available'])\n",
    "    if coin_size > 1. and 'USD' not in coin:\n",
    "        price = float(pub_client.get_product_24hr_stats(f'{coin}-USD')['last'])\n",
    "        usd_size = round(price * coin_size, 2)\n",
    "        print(f'Selling {coin}, size: ${usd_size}')\n",
    "        print(auth_client.place_market_order(product_id=f'{coin}-USD', side='sell', funds=usd_size))\n",
    "        time.sleep(0.1)"
   ]
  },
  {
   "cell_type": "code",
   "execution_count": null,
   "id": "215868e9-61b1-48a8-9fce-7fda6f619d5a",
   "metadata": {},
   "outputs": [],
   "source": [
    "import time\n",
    "\n",
    "start_time = time.time()\n",
    "\n",
    "cur_time = pub_client.get_product_ticker('BTC-USD')['time']\n",
    "parsed_time = datetime.strptime(cur_time, '%Y-%m-%dT%H:%M:%S.%fZ')\n",
    "\n",
    "num_ticker = 4\n",
    "k = 0.6\n",
    "\n",
    "df_dict = {}\n",
    "\n",
    "# if the time is 1 day candle, clear all positions\n",
    "if (parsed_time.minute == 0) & (parsed_time.hour == 0):\n",
    "    for coin in acc_info.keys():\n",
    "        currency = acc_info[coin]['currency']\n",
    "        size = float(acc_info[coin]['available'])\n",
    "        auth_client.place_market_order(product_id=f'{coin}-USD', side='sell', funds=size)\n",
    "\n",
    "# if it's not 1 day candle, monitor prices\n",
    "else:\n",
    "    \n",
    "    # get candle info \n",
    "    for coin in acc_info.keys():\n",
    "        df = pd.DataFrame(pub_client.get_product_historic_rates(f'{coin}-USD', granularity=24*60*60),\n",
    "                      columns=['time','low','high','open','close','volume']).sort_values('time')\n",
    "        df['time'] = pd.to_datetime(df['time'],unit='s')\n",
    "        df.set_index('time', inplace=True)\n",
    "        df_dict[coin] = df.iloc[-2:,:] # we need today & yesterday's data\n",
    "    \n",
    "    # get volume in usd\n",
    "    df_vol = pd.DataFrame(columns=['coin','vol_usd'])\n",
    "    for coin in df_dict.keys():\n",
    "        try:\n",
    "            past_data = df_dict[coin].iloc[0,:]\n",
    "            vol_usd = past_data['volume'] * past_data['close']\n",
    "            df_vol = df_vol.append({'coin':coin, 'vol_usd':vol_usd}, ignore_index=True)\n",
    "        except:\n",
    "            pass\n",
    "\n",
    "    # list top X coins by volume\n",
    "    final_list = df_vol.sort_values('vol_usd', ascending=False).head(num_ticker).coin.tolist()\n",
    "    print(f'Final list: {final_list}')\n",
    "\n",
    "    # function for getting buy signal\n",
    "    def get_signal(past_high, past_low, cur_open, cur_high, k):\n",
    "        price_range = past_high - past_low\n",
    "\n",
    "        # if current day's price has satisfied the standard, we buy\n",
    "        if cur_high > cur_open + price_range * k:\n",
    "            buy_price = cur_open + price_range * k\n",
    "            return buy_price\n",
    "        else:\n",
    "            # no buy signal\n",
    "            return -1\n",
    "        \n",
    "    # get list of coins we hold\n",
    "    coins_holding_list = []\n",
    "    for data in acc_info.values():\n",
    "        coin = data['currency']\n",
    "        coin_amount = float(data['available'])\n",
    "        if coin_amount > 0 and 'USD' not in coin:\n",
    "            price = float(pub_client.get_product_24hr_stats(f'{coin}-USD')['last'])\n",
    "            if coin_amount * price > 0.1:\n",
    "                coins_holding_list.append(coin)\n",
    "    num_coins_holding = len(coins_holding_list)\n",
    "    print(coins_holding_list)\n",
    "    \n",
    "    # market buy coins\n",
    "    for coin in final_list:\n",
    "        \n",
    "        # if we don't already have a position in this coin, we buy\n",
    "        if coin not in coins_holding_list:\n",
    "            past_data = df_dict[coin].iloc[0,:]\n",
    "            cur_data = df_dict[coin].iloc[1,:]\n",
    "            cur_price = float(pub_client.get_product_24hr_stats(f'{coin}-USD')['last'])\n",
    "\n",
    "            buy_price = get_signal(past_data['high'], past_data['low'], cur_data['open'], cur_price, k)\n",
    "\n",
    "            # if we have buy signal\n",
    "            if buy_price > 0:\n",
    "                size = round(float(acc_info['USD']['available'])/(num_ticker - num_coins_holding), 2)\n",
    "                auth_client.place_market_order(product_id=f'{coin}-USD', side='buy', funds=size)\n",
    "                num_coins_holding += 1\n",
    "                print(f'Purchased: {coin}')\n",
    "                print(f'Size: ${size}')\n",
    "\n",
    "end_time = time.time()\n",
    "\n",
    "print(end_time-start_time)"
   ]
  },
  {
   "cell_type": "code",
   "execution_count": null,
   "id": "f15820ec-5409-4069-9c30-424f1eaf0273",
   "metadata": {},
   "outputs": [],
   "source": [
    "df = pd.DataFrame(pub_client.get_product_historic_rates(f'BTC-USD', granularity=24*60*60),\n",
    "              columns=['time','low','high','open','close','volume']).sort_values('time')\n",
    "df['time'] = pd.to_datetime(df['time'],unit='s')\n",
    "df.set_index('time', inplace=True)\n",
    "df_dict['BTC'] = df.iloc[-2:,:] # we need today & yesterday's data"
   ]
  },
  {
   "cell_type": "code",
   "execution_count": null,
   "id": "45631970-41b2-4aba-8216-96818524356f",
   "metadata": {},
   "outputs": [],
   "source": [
    "df_dict['BTC']"
   ]
  },
  {
   "cell_type": "code",
   "execution_count": null,
   "id": "2f6b190e-95b1-4293-ad37-a2554d3660e9",
   "metadata": {},
   "outputs": [],
   "source": [
    "acc_info['USD']"
   ]
  },
  {
   "cell_type": "code",
   "execution_count": null,
   "id": "711e126d-867d-47ae-a692-7e6f6f3869aa",
   "metadata": {},
   "outputs": [],
   "source": []
  }
 ],
 "metadata": {
  "kernelspec": {
   "display_name": "Python 3",
   "language": "python",
   "name": "python3"
  },
  "language_info": {
   "codemirror_mode": {
    "name": "ipython",
    "version": 3
   },
   "file_extension": ".py",
   "mimetype": "text/x-python",
   "name": "python",
   "nbconvert_exporter": "python",
   "pygments_lexer": "ipython3",
   "version": "3.7.10"
  }
 },
 "nbformat": 4,
 "nbformat_minor": 5
}
