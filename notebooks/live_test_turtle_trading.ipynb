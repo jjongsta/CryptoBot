{
 "cells": [
  {
   "cell_type": "code",
   "execution_count": 14,
   "id": "1b17c518-5c48-44ed-b41a-15f0846dd9c8",
   "metadata": {},
   "outputs": [],
   "source": [
    "import cbpro\n",
    "import pandas as pd\n",
    "import numpy as np\n",
    "from datetime import datetime, timedelta\n",
    "import time\n",
    "\n",
    "# public client\n",
    "pub_client = cbpro.PublicClient()\n",
    "\n",
    "# authentication\n",
    "f = open('/Users/jonghyunpark/turtle_trading.json','r')\n",
    "data = json.load(f)\n",
    "\n",
    "# authenticated client\n",
    "locals().update(data)\n",
    "\n",
    "auth_client = cbpro.AuthenticatedClient(API_KEY, API_SECRET, API_PASS)\n",
    "\n",
    "pd.set_option('display.max_rows',None)"
   ]
  },
  {
   "cell_type": "markdown",
   "id": "69284c4f-71dc-45d1-9b6d-4e3496d10c28",
   "metadata": {},
   "source": [
    "# Pseudocode for live turtle trading bot\n",
    "\n",
    "// API call every 5 minute\n",
    "\n",
    "IF we have a buy signal:\n",
    "    \n",
    "    IF we don't have position:\n",
    "        \n",
    "        price = X day rolling max high\n",
    "        amount = total port val * 0.02 / ATR\n",
    "        stop loss = buy_price - 2 ATR\n",
    "    \n",
    "    ELSE:\n",
    "    \n",
    "        IF we have money left:\n",
    "        \n",
    "            price = last purchase + 1 ATR\n",
    "            amount = total port val * 0.02 / ATR\n",
    "            stop loss = buy_price - 2 ATR\n",
    "        \n",
    "        ELSE: \n",
    "        \n",
    "            price = same\n",
    "            amount = all of the money\n",
    "            stop_loss_price = (buy_price + num_pyrm/2*atr) - sl_ratio * atr\n",
    "    \n",
    "ELSE IF we have a sell signal:\n",
    "\n",
    "    sell all positions\n",
    "\n",
    "ELSE:\n",
    "\n",
    "    Do nothing (hold positions)\n",
    "    "
   ]
  },
  {
   "cell_type": "code",
   "execution_count": 15,
   "id": "4c9fc3b2-2e34-49ca-a801-0f1da7f777ea",
   "metadata": {},
   "outputs": [
    {
     "ename": "TypeError",
     "evalue": "string indices must be integers",
     "output_type": "error",
     "traceback": [
      "\u001b[0;31m---------------------------------------------------------------------------\u001b[0m",
      "\u001b[0;31mTypeError\u001b[0m                                 Traceback (most recent call last)",
      "\u001b[0;32m<ipython-input-15-9a71321ea0a6>\u001b[0m in \u001b[0;36m<module>\u001b[0;34m\u001b[0m\n\u001b[1;32m      6\u001b[0m \u001b[0;34m\u001b[0m\u001b[0m\n\u001b[1;32m      7\u001b[0m \u001b[0;32mfor\u001b[0m \u001b[0mdata\u001b[0m \u001b[0;32min\u001b[0m \u001b[0mauth_client\u001b[0m\u001b[0;34m.\u001b[0m\u001b[0mget_accounts\u001b[0m\u001b[0;34m(\u001b[0m\u001b[0;34m)\u001b[0m\u001b[0;34m:\u001b[0m\u001b[0;34m\u001b[0m\u001b[0;34m\u001b[0m\u001b[0m\n\u001b[0;32m----> 8\u001b[0;31m     \u001b[0mcurrency\u001b[0m \u001b[0;34m=\u001b[0m \u001b[0mdata\u001b[0m\u001b[0;34m[\u001b[0m\u001b[0;34m'currency'\u001b[0m\u001b[0;34m]\u001b[0m\u001b[0;34m\u001b[0m\u001b[0;34m\u001b[0m\u001b[0m\n\u001b[0m\u001b[1;32m      9\u001b[0m     \u001b[0;32mif\u001b[0m \u001b[0mcurrency\u001b[0m \u001b[0;32min\u001b[0m \u001b[0;34m[\u001b[0m\u001b[0;34m'USD'\u001b[0m\u001b[0;34m,\u001b[0m\u001b[0;34mf'{coin}'\u001b[0m\u001b[0;34m]\u001b[0m\u001b[0;34m:\u001b[0m\u001b[0;34m\u001b[0m\u001b[0;34m\u001b[0m\u001b[0m\n\u001b[1;32m     10\u001b[0m         \u001b[0macc_info\u001b[0m\u001b[0;34m[\u001b[0m\u001b[0mcurrency\u001b[0m\u001b[0;34m]\u001b[0m \u001b[0;34m=\u001b[0m \u001b[0mdata\u001b[0m\u001b[0;34m\u001b[0m\u001b[0;34m\u001b[0m\u001b[0m\n",
      "\u001b[0;31mTypeError\u001b[0m: string indices must be integers"
     ]
    }
   ],
   "source": [
    "# get account_info for holding coins\n",
    "acc_info = {}\n",
    "\n",
    "# coin to trade\n",
    "coin = 'ETH'\n",
    "\n",
    "for data in auth_client.get_accounts():\n",
    "    currency = data['currency']\n",
    "    if currency in ['USD',f'{coin}']:\n",
    "        acc_info[currency] = data\n",
    "        \n",
    "acc_info"
   ]
  },
  {
   "cell_type": "code",
   "execution_count": 51,
   "id": "52f20525-3f92-413a-9256-1a38f2ea1ba3",
   "metadata": {},
   "outputs": [
    {
     "data": {
      "text/html": [
       "<div>\n",
       "<style scoped>\n",
       "    .dataframe tbody tr th:only-of-type {\n",
       "        vertical-align: middle;\n",
       "    }\n",
       "\n",
       "    .dataframe tbody tr th {\n",
       "        vertical-align: top;\n",
       "    }\n",
       "\n",
       "    .dataframe thead th {\n",
       "        text-align: right;\n",
       "    }\n",
       "</style>\n",
       "<table border=\"1\" class=\"dataframe\">\n",
       "  <thead>\n",
       "    <tr style=\"text-align: right;\">\n",
       "      <th></th>\n",
       "      <th>low</th>\n",
       "      <th>high</th>\n",
       "      <th>open</th>\n",
       "      <th>close</th>\n",
       "      <th>volume</th>\n",
       "    </tr>\n",
       "    <tr>\n",
       "      <th>time</th>\n",
       "      <th></th>\n",
       "      <th></th>\n",
       "      <th></th>\n",
       "      <th></th>\n",
       "      <th></th>\n",
       "    </tr>\n",
       "  </thead>\n",
       "  <tbody>\n",
       "    <tr>\n",
       "      <th>2021-01-26</th>\n",
       "      <td>30830.00</td>\n",
       "      <td>32960.37</td>\n",
       "      <td>32260.52</td>\n",
       "      <td>32510.82</td>\n",
       "      <td>23535.838917</td>\n",
       "    </tr>\n",
       "    <tr>\n",
       "      <th>2021-01-27</th>\n",
       "      <td>29156.00</td>\n",
       "      <td>32584.62</td>\n",
       "      <td>32510.82</td>\n",
       "      <td>30407.13</td>\n",
       "      <td>46207.085374</td>\n",
       "    </tr>\n",
       "    <tr>\n",
       "      <th>2021-01-28</th>\n",
       "      <td>29902.14</td>\n",
       "      <td>34000.00</td>\n",
       "      <td>30414.11</td>\n",
       "      <td>33488.99</td>\n",
       "      <td>36007.062695</td>\n",
       "    </tr>\n",
       "    <tr>\n",
       "      <th>2021-01-29</th>\n",
       "      <td>31990.00</td>\n",
       "      <td>38570.13</td>\n",
       "      <td>33487.92</td>\n",
       "      <td>34262.11</td>\n",
       "      <td>72641.079750</td>\n",
       "    </tr>\n",
       "    <tr>\n",
       "      <th>2021-01-30</th>\n",
       "      <td>32852.86</td>\n",
       "      <td>34900.00</td>\n",
       "      <td>34262.11</td>\n",
       "      <td>34315.63</td>\n",
       "      <td>21362.151738</td>\n",
       "    </tr>\n",
       "  </tbody>\n",
       "</table>\n",
       "</div>"
      ],
      "text/plain": [
       "                 low      high      open     close        volume\n",
       "time                                                            \n",
       "2021-01-26  30830.00  32960.37  32260.52  32510.82  23535.838917\n",
       "2021-01-27  29156.00  32584.62  32510.82  30407.13  46207.085374\n",
       "2021-01-28  29902.14  34000.00  30414.11  33488.99  36007.062695\n",
       "2021-01-29  31990.00  38570.13  33487.92  34262.11  72641.079750\n",
       "2021-01-30  32852.86  34900.00  34262.11  34315.63  21362.151738"
      ]
     },
     "execution_count": 51,
     "metadata": {},
     "output_type": "execute_result"
    }
   ],
   "source": [
    "# get price data\n",
    "df = pd.DataFrame(pub_client.get_product_historic_rates(f'{coin}-USD', granularity=24*60*60),\n",
    "              columns=['time','low','high','open','close','volume']).sort_values('time')\n",
    "df['time'] = pd.to_datetime(df['time'],unit='s')\n",
    "df.set_index('time', inplace=True)\n",
    "\n",
    "df.head()"
   ]
  },
  {
   "cell_type": "code",
   "execution_count": 52,
   "id": "eea21332-e543-4162-8a9c-3de3dd0981bb",
   "metadata": {},
   "outputs": [],
   "source": [
    "# calculate ATR and rolling high and low price\n",
    "def _get_atr(df, window_atr=20, window_high=20, window_low=10):\n",
    "    df['pclose'] = df['close'].shift(1)\n",
    "    df['diff1'] = abs(df['high'] - df['low'])\n",
    "    df['diff2'] = abs(df['pclose'] - df['high'])\n",
    "    df['diff3'] = abs(df['pclose'] - df['low'])\n",
    "    df['tr'] = df[['diff1', 'diff2', 'diff3']].max(axis=1)\n",
    "    df['atr'] = df['tr'].rolling(window=window_atr).mean()\n",
    "    df['rolling_high'] = df.high.rolling(window=window_high).max()\n",
    "    df['rolling_low'] = df.low.rolling(window=window_low).min()\n",
    "    return df\n",
    "\n",
    "df = _get_atr(df, window_atr=5, window_high=5, window_low=10)\n",
    "\n",
    "df = df.iloc[-2,:]\n",
    "\n",
    "# df.tail()"
   ]
  },
  {
   "cell_type": "code",
   "execution_count": 53,
   "id": "a79ed6b3-1f29-4829-a0c5-b050cf4d51ab",
   "metadata": {},
   "outputs": [
    {
     "data": {
      "text/plain": [
       "low             57423.350000\n",
       "high            59900.000000\n",
       "open            58122.150000\n",
       "close           59760.760000\n",
       "volume           7584.652417\n",
       "pclose          58122.160000\n",
       "diff1            2476.650000\n",
       "diff2            1777.840000\n",
       "diff3             698.810000\n",
       "tr               2476.650000\n",
       "atr              3431.566000\n",
       "rolling_high    63624.600000\n",
       "rolling_low     55625.000000\n",
       "Name: 2021-11-20 00:00:00, dtype: float64"
      ]
     },
     "execution_count": 53,
     "metadata": {},
     "output_type": "execute_result"
    }
   ],
   "source": [
    "df"
   ]
  },
  {
   "cell_type": "code",
   "execution_count": 103,
   "id": "452a16b0-03f9-490f-81c8-d19f9d277078",
   "metadata": {},
   "outputs": [
    {
     "name": "stdout",
     "output_type": "stream",
     "text": [
      "59412.23\n",
      "0.0001672\n",
      "90.00021350858\n",
      "99.93393836458\n"
     ]
    }
   ],
   "source": [
    "cur_price = float(pub_client.get_product_24hr_stats(f'{coin}-USD')['last'])\n",
    "cur_hold = float(acc_info[coin]['balance'])\n",
    "cur_cash = float(acc_info['USD']['balance'])\n",
    "cur_port_val = cur_hold * cur_price + cur_cash\n",
    "\n",
    "print(cur_price)\n",
    "print(cur_hold)\n",
    "print(cur_cash)\n",
    "print(cur_port_val)"
   ]
  },
  {
   "cell_type": "code",
   "execution_count": 55,
   "id": "c9fb8c9b-5661-4446-b5d0-cb0e7cd4d2e9",
   "metadata": {},
   "outputs": [],
   "source": [
    "# parameters\n",
    "n = 0.02 # pct of total port val to trade\n",
    "atr = df['atr']\n",
    "max_pyrm_num = 4"
   ]
  },
  {
   "cell_type": "code",
   "execution_count": 119,
   "id": "ab83da76-bcaa-4ee1-851f-fc2fdbf2d54d",
   "metadata": {},
   "outputs": [
    {
     "name": "stdout",
     "output_type": "stream",
     "text": [
      "59535.81\n",
      "21\n",
      "1\n"
     ]
    }
   ],
   "source": [
    "# get last buy price and get # of pyramiding\n",
    "num_pyrm = -1\n",
    "for i, order in enumerate(auth_client.get_fills(product_id=f'{coin}-USD')):\n",
    "    if i == 0:\n",
    "        last_buy_price = float(order['price'])\n",
    "        last_trade_day = datetime.strptime(order['created_at'], '%Y-%m-%dT%H:%M:%S.%fZ').day\n",
    "    if order['side'] == 'sell':\n",
    "        print(last_buy_price)\n",
    "        print(last_trade_day)\n",
    "        print(num_pyrm)\n",
    "        break\n",
    "    num_pyrm += 1\n",
    "#     print(order)"
   ]
  },
  {
   "cell_type": "code",
   "execution_count": 107,
   "id": "7990fb68-b9f1-46be-b870-b08dacbf29f3",
   "metadata": {},
   "outputs": [],
   "source": [
    "def make_buy_orders(coin, funds, size, atr):\n",
    "    print(auth_client.place_market_order(product_id=f'{coin}-USD', side='buy', funds=funds))\n",
    "    # stop loss at 2 * ATR\n",
    "    stop_price = buy_price - 2 * atr\n",
    "    auth_client.place_order(product_id=f'{coin}-USD', \n",
    "                    order_type='limit',\n",
    "                    side='sell',\n",
    "                    stop='loss',\n",
    "                    stop_price=stop_price,\n",
    "                    price=stop_price,\n",
    "                    size=size)"
   ]
  },
  {
   "cell_type": "code",
   "execution_count": 120,
   "id": "7915c8d6-bd6d-4391-aa3f-e56d82d5977b",
   "metadata": {},
   "outputs": [
    {
     "name": "stdout",
     "output_type": "stream",
     "text": [
      "2021-11-21 03:12:06.591424\n",
      "2021-11-21 03:02:06.591424\n"
     ]
    }
   ],
   "source": [
    "cur_time = pub_client.get_product_ticker('BTC-USD')['time']\n",
    "cur_time_parsed = datetime.strptime(cur_time, '%Y-%m-%dT%H:%M:%S.%fZ')\n",
    "past_time = cur_time_parsed - timedelta(minutes=10)\n",
    "\n",
    "print(cur_time_parsed)\n",
    "print(past_time)"
   ]
  },
  {
   "cell_type": "code",
   "execution_count": 115,
   "id": "c83c4026-f6d0-462b-89fa-b5b9da5ec641",
   "metadata": {},
   "outputs": [],
   "source": [
    "if (1!=1) | (2 != 2):\n",
    "    print(1)"
   ]
  },
  {
   "cell_type": "code",
   "execution_count": null,
   "id": "8122f46c-2088-4316-935f-822a275e2910",
   "metadata": {},
   "outputs": [],
   "source": [
    "# if new day started, or same day without any order, go through order process\n",
    "if (cur_time_parsed.day != past_time.day) | (last_trade_day < cur_time_parsed.day):\n",
    "    \n",
    "    # if current price is higher than rolling high\n",
    "    if cur_price > df['rolling_high']:\n",
    "\n",
    "        # if we have no position\n",
    "        if cur_hold == 0.:\n",
    "            num_coins = cur_port_val * n / atr\n",
    "            funds = num_coins * cur_price\n",
    "            size = num_coins\n",
    "            make_buy_orders(coin, funds, size, atr)\n",
    "\n",
    "        # if we have position, and price has increased by 1 ATR, do pyramiding\n",
    "        elif (cur_price > last_buy_price + atr) & (num_pyrm < max_pyrm_num):\n",
    "            print(auth_client.cancel_all(product_id=f'{coin}-USD')) # cancel previous stop order\n",
    "            num_coins = cur_port_val * n / atr\n",
    "            funds = min(cur_price * num_coins, cur_cash) # if we don't have enough cash, we all-in\n",
    "            num_coins = funds/cur_price\n",
    "            size = num_coins + cur_hold\n",
    "            make_buy_orders(coin, funds, size, atr)\n",
    "\n",
    "    # if current price is lower than rolling low and we have position, sell all holdings\n",
    "    elif (cur_price < df['rolling_low']) & (cur_hold > 0.):\n",
    "        print(auth_client.place_market_order(product_id=f'{coin}-USD', side='sell', size=cur_hold))\n"
   ]
  },
  {
   "cell_type": "code",
   "execution_count": 13,
   "id": "f4c3d862-bf18-470a-9096-2c05735b7ee0",
   "metadata": {},
   "outputs": [
    {
     "name": "stdout",
     "output_type": "stream",
     "text": [
      "{'id': 'ea47c414-583d-4fbe-ba96-2704337210fe', 'price': '90', 'size': '30', 'product_id': 'SOL-USD', 'side': 'sell', 'stp': 'dc', 'type': 'limit', 'time_in_force': 'GTC', 'post_only': False, 'created_at': '2022-03-04T08:03:21.86504Z', 'stop': 'loss', 'stop_price': '90', 'fill_fees': '0', 'filled_size': '0', 'executed_value': '0', 'status': 'pending', 'settled': False}\n"
     ]
    }
   ],
   "source": [
    "print(auth_client.place_order(product_id=f'SOL-USD', \n",
    "                                    order_type='limit',\n",
    "                                    side='sell',\n",
    "                                    stop='loss',\n",
    "                                    stop_price=90,\n",
    "                                    price=90,\n",
    "                                    size=30))"
   ]
  },
  {
   "cell_type": "code",
   "execution_count": null,
   "id": "a606a466-3f76-4387-ab8e-cdcff7d51c28",
   "metadata": {},
   "outputs": [],
   "source": []
  }
 ],
 "metadata": {
  "kernelspec": {
   "display_name": "Python 3",
   "language": "python",
   "name": "python3"
  },
  "language_info": {
   "codemirror_mode": {
    "name": "ipython",
    "version": 3
   },
   "file_extension": ".py",
   "mimetype": "text/x-python",
   "name": "python",
   "nbconvert_exporter": "python",
   "pygments_lexer": "ipython3",
   "version": "3.7.10"
  }
 },
 "nbformat": 4,
 "nbformat_minor": 5
}
